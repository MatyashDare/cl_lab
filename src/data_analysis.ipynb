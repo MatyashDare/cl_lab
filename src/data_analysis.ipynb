{
 "cells": [
  {
   "cell_type": "code",
   "execution_count": 2,
   "id": "5de26a56",
   "metadata": {},
   "outputs": [],
   "source": [
    "import numpy as np\n",
    "import pandas as pd\n",
    "from matplotlib import pyplot as plt"
   ]
  },
  {
   "cell_type": "markdown",
   "id": "959b7c52",
   "metadata": {},
   "source": [
    "15180 audiofiles: 7950 male and 7230 female\n",
    "\n",
    "162 speakers\n",
    "\n",
    "344 sessions\n",
    "\n",
    "set a, CNA - speech under intoxication\n",
    "\n",
    "set NA - speech under sober conditions"
   ]
  },
  {
   "cell_type": "code",
   "execution_count": 3,
   "id": "731e308d",
   "metadata": {},
   "outputs": [
    {
     "data": {
      "text/html": [
       "<div>\n",
       "<style scoped>\n",
       "    .dataframe tbody tr th:only-of-type {\n",
       "        vertical-align: middle;\n",
       "    }\n",
       "\n",
       "    .dataframe tbody tr th {\n",
       "        vertical-align: top;\n",
       "    }\n",
       "\n",
       "    .dataframe thead th {\n",
       "        text-align: right;\n",
       "    }\n",
       "</style>\n",
       "<table border=\"1\" class=\"dataframe\">\n",
       "  <thead>\n",
       "    <tr style=\"text-align: right;\">\n",
       "      <th></th>\n",
       "      <th>session</th>\n",
       "      <th>utterance</th>\n",
       "      <th>utt</th>\n",
       "      <th>spn</th>\n",
       "      <th>o_utt</th>\n",
       "      <th>item</th>\n",
       "      <th>o_item</th>\n",
       "      <th>alc</th>\n",
       "      <th>sex</th>\n",
       "      <th>age</th>\n",
       "      <th>...</th>\n",
       "      <th>aak</th>\n",
       "      <th>bak</th>\n",
       "      <th>ges</th>\n",
       "      <th>ces</th>\n",
       "      <th>wea</th>\n",
       "      <th>irreg</th>\n",
       "      <th>anncom</th>\n",
       "      <th>specom</th>\n",
       "      <th>type</th>\n",
       "      <th>content</th>\n",
       "    </tr>\n",
       "  </thead>\n",
       "  <tbody>\n",
       "    <tr>\n",
       "      <th>0</th>\n",
       "      <td>ses4038</td>\n",
       "      <td>5444038020_h_00</td>\n",
       "      <td>5444038020</td>\n",
       "      <td>544</td>\n",
       "      <td>5.443046e+09</td>\n",
       "      <td>20</td>\n",
       "      <td>20.0</td>\n",
       "      <td>na</td>\n",
       "      <td>M</td>\n",
       "      <td>27</td>\n",
       "      <td>...</td>\n",
       "      <td>0.0</td>\n",
       "      <td>0.0</td>\n",
       "      <td>f5</td>\n",
       "      <td>r1</td>\n",
       "      <td>SUN</td>\n",
       "      <td>1|0|0|0|0|1|0|0|0</td>\n",
       "      <td>NaN</td>\n",
       "      <td>NaN</td>\n",
       "      <td>R</td>\n",
       "      <td>T</td>\n",
       "    </tr>\n",
       "    <tr>\n",
       "      <th>1</th>\n",
       "      <td>ses4038</td>\n",
       "      <td>5444038033_h_00</td>\n",
       "      <td>5444038033</td>\n",
       "      <td>544</td>\n",
       "      <td>NaN</td>\n",
       "      <td>33</td>\n",
       "      <td>NaN</td>\n",
       "      <td>na</td>\n",
       "      <td>M</td>\n",
       "      <td>27</td>\n",
       "      <td>...</td>\n",
       "      <td>0.0</td>\n",
       "      <td>0.0</td>\n",
       "      <td>f5</td>\n",
       "      <td>r1</td>\n",
       "      <td>SUN</td>\n",
       "      <td>0|0|0|0|0|0|0|0|0</td>\n",
       "      <td>NaN</td>\n",
       "      <td>NaN</td>\n",
       "      <td>R</td>\n",
       "      <td>A</td>\n",
       "    </tr>\n",
       "    <tr>\n",
       "      <th>2</th>\n",
       "      <td>ses4038</td>\n",
       "      <td>5444038035_h_00</td>\n",
       "      <td>5444038035</td>\n",
       "      <td>544</td>\n",
       "      <td>NaN</td>\n",
       "      <td>35</td>\n",
       "      <td>NaN</td>\n",
       "      <td>na</td>\n",
       "      <td>M</td>\n",
       "      <td>27</td>\n",
       "      <td>...</td>\n",
       "      <td>0.0</td>\n",
       "      <td>0.0</td>\n",
       "      <td>f5</td>\n",
       "      <td>r1</td>\n",
       "      <td>SUN</td>\n",
       "      <td>9999|0|0|0|0|0|0|0|0</td>\n",
       "      <td>NaN</td>\n",
       "      <td>NaN</td>\n",
       "      <td>L</td>\n",
       "      <td>N</td>\n",
       "    </tr>\n",
       "    <tr>\n",
       "      <th>3</th>\n",
       "      <td>ses4038</td>\n",
       "      <td>5444038060_h_00</td>\n",
       "      <td>5444038060</td>\n",
       "      <td>544</td>\n",
       "      <td>5.443046e+09</td>\n",
       "      <td>60</td>\n",
       "      <td>30.0</td>\n",
       "      <td>na</td>\n",
       "      <td>M</td>\n",
       "      <td>27</td>\n",
       "      <td>...</td>\n",
       "      <td>0.0</td>\n",
       "      <td>0.0</td>\n",
       "      <td>f5</td>\n",
       "      <td>r1</td>\n",
       "      <td>SUN</td>\n",
       "      <td>9999|0|0|0|0|0|0|0|0</td>\n",
       "      <td>NaN</td>\n",
       "      <td>NaN</td>\n",
       "      <td>L</td>\n",
       "      <td>S</td>\n",
       "    </tr>\n",
       "    <tr>\n",
       "      <th>4</th>\n",
       "      <td>ses4038</td>\n",
       "      <td>5444038026_h_00</td>\n",
       "      <td>5444038026</td>\n",
       "      <td>544</td>\n",
       "      <td>5.443046e+09</td>\n",
       "      <td>26</td>\n",
       "      <td>6.0</td>\n",
       "      <td>na</td>\n",
       "      <td>M</td>\n",
       "      <td>27</td>\n",
       "      <td>...</td>\n",
       "      <td>0.0</td>\n",
       "      <td>0.0</td>\n",
       "      <td>f5</td>\n",
       "      <td>r1</td>\n",
       "      <td>SUN</td>\n",
       "      <td>9999|0|0|0|0|0|0|0|0</td>\n",
       "      <td>NaN</td>\n",
       "      <td>NaN</td>\n",
       "      <td>L</td>\n",
       "      <td>N</td>\n",
       "    </tr>\n",
       "  </tbody>\n",
       "</table>\n",
       "<p>5 rows × 22 columns</p>\n",
       "</div>"
      ],
      "text/plain": [
       "   session        utterance         utt  spn         o_utt  item  o_item alc   \n",
       "0  ses4038  5444038020_h_00  5444038020  544  5.443046e+09    20    20.0  na  \\\n",
       "1  ses4038  5444038033_h_00  5444038033  544           NaN    33     NaN  na   \n",
       "2  ses4038  5444038035_h_00  5444038035  544           NaN    35     NaN  na   \n",
       "3  ses4038  5444038060_h_00  5444038060  544  5.443046e+09    60    30.0  na   \n",
       "4  ses4038  5444038026_h_00  5444038026  544  5.443046e+09    26     6.0  na   \n",
       "\n",
       "  sex  age  ...  aak  bak  ges  ces  wea                 irreg anncom specom   \n",
       "0   M   27  ...  0.0  0.0   f5   r1  SUN     1|0|0|0|0|1|0|0|0    NaN    NaN  \\\n",
       "1   M   27  ...  0.0  0.0   f5   r1  SUN     0|0|0|0|0|0|0|0|0    NaN    NaN   \n",
       "2   M   27  ...  0.0  0.0   f5   r1  SUN  9999|0|0|0|0|0|0|0|0    NaN    NaN   \n",
       "3   M   27  ...  0.0  0.0   f5   r1  SUN  9999|0|0|0|0|0|0|0|0    NaN    NaN   \n",
       "4   M   27  ...  0.0  0.0   f5   r1  SUN  9999|0|0|0|0|0|0|0|0    NaN    NaN   \n",
       "\n",
       "  type content  \n",
       "0    R       T  \n",
       "1    R       A  \n",
       "2    L       N  \n",
       "3    L       S  \n",
       "4    L       N  \n",
       "\n",
       "[5 rows x 22 columns]"
      ]
     },
     "execution_count": 3,
     "metadata": {},
     "output_type": "execute_result"
    }
   ],
   "source": [
    "df = pd.read_csv('../data/dataframe.csv')\n",
    "df.head()"
   ]
  },
  {
   "cell_type": "code",
   "execution_count": 4,
   "id": "36cc6e0a",
   "metadata": {},
   "outputs": [
    {
     "data": {
      "text/plain": [
       "'all columns in the dataframe: session, utterance, utt, spn, o_utt, item, o_item, alc, sex, age, acc, drh, aak, bak, ges, ces, wea, irreg, anncom, specom, type, content'"
      ]
     },
     "execution_count": 4,
     "metadata": {},
     "output_type": "execute_result"
    }
   ],
   "source": [
    "f\"all columns in the dataframe: {', '.join(list(df.columns))}\""
   ]
  },
  {
   "cell_type": "markdown",
   "id": "c058f00d",
   "metadata": {},
   "source": [
    "## 📍 acc: state pf elementary school"
   ]
  },
  {
   "cell_type": "code",
   "execution_count": 5,
   "id": "a78c5905",
   "metadata": {},
   "outputs": [
    {
     "data": {
      "text/plain": [
       "acc\n",
       "BY    11370\n",
       "BW     1050\n",
       "HE      570\n",
       "NW      540\n",
       "NI      450\n",
       "BE      270\n",
       "XX      180\n",
       "RP      180\n",
       "SN      180\n",
       "MV       90\n",
       "NS       90\n",
       "SL       90\n",
       "SH       90\n",
       "-        30\n",
       "Name: count, dtype: int64"
      ]
     },
     "execution_count": 5,
     "metadata": {},
     "output_type": "execute_result"
    }
   ],
   "source": [
    "df['acc'].value_counts()"
   ]
  },
  {
   "cell_type": "code",
   "execution_count": 22,
   "id": "fe0c03dc",
   "metadata": {},
   "outputs": [
    {
     "data": {
      "text/plain": [
       "<AxesSubplot: xlabel='acc'>"
      ]
     },
     "execution_count": 22,
     "metadata": {},
     "output_type": "execute_result"
    },
    {
     "data": {
      "image/png": "[encoded data removed]",
      "text/plain": [
       "<Figure size 640x480 with 1 Axes>"
      ]
     },
     "metadata": {},
     "output_type": "display_data"
    }
   ],
   "source": [
    "pd.crosstab(df['acc'],df['alc2']).plot.bar()"
   ]
  },
  {
   "cell_type": "markdown",
   "id": "57ae6524",
   "metadata": {},
   "source": [
    "As far as ~75% recordings contain speech of Bavarian school graduates this meta-info night not come in handy, but we should be aware of it and maybe later check how the quality of predictions depends on the possible accent of the speaker"
   ]
  },
  {
   "cell_type": "markdown",
   "id": "3b2ea768",
   "metadata": {},
   "source": [
    "## ❌ anncom: comment of annotators"
   ]
  },
  {
   "cell_type": "code",
   "execution_count": 6,
   "id": "e2334ea8",
   "metadata": {},
   "outputs": [
    {
     "name": "stdout",
     "output_type": "stream",
     "text": [
      "Unique comments of annotators: [nan 'Micky_Maus']\n",
      "Number of not-Nan sessions: ['ses1009' 'ses1006' 'ses1008']\n"
     ]
    }
   ],
   "source": [
    "print(f\"Unique comments of annotators: {df['anncom'].unique()}\")\n",
    "print(f\"Number of not-Nan sessions: {df[df['anncom']=='Micky_Maus']['session'].unique()}\")"
   ]
  },
  {
   "cell_type": "markdown",
   "id": "b71b4273",
   "metadata": {},
   "source": [
    "has only 2 unique values: *Nan* and *Micky-Maus* -> makes no sense for us rn"
   ]
  },
  {
   "cell_type": "markdown",
   "id": "cea3e354",
   "metadata": {},
   "source": [
    "## 📍 specom: comment about the speaker \n",
    "Let's print out numbers of not-Nan-labelled sessions and their ids:"
   ]
  },
  {
   "cell_type": "code",
   "execution_count": 7,
   "id": "3de380d9",
   "metadata": {
    "scrolled": true
   },
   "outputs": [
    {
     "name": "stdout",
     "output_type": "stream",
     "text": [
      "nan: 14610\n",
      "\n",
      "no_BAK_measurement: 6\n",
      " ['ses2028' 'ses1024' 'ses1032' 'ses1025' 'ses2012' 'ses2017']\n",
      "\n",
      "strange_velar_plosive: 2\n",
      " ['ses4007' 'ses3016']\n",
      "\n",
      "engine_failure_NA: 3\n",
      " ['ses5008' 'ses2046' 'ses1055']\n",
      "\n",
      "no_native_speaker: 2\n",
      " ['ses4013' 'ses3018']\n",
      "\n"
     ]
    }
   ],
   "source": [
    "for com in df['specom'].unique():\n",
    "    if isinstance(com, str):\n",
    "        un_com = df[df['specom']==com]['session'].unique()\n",
    "        print(f\"{com}: {len(un_com)}\\n {un_com}\\n\")\n",
    "    else:\n",
    "        print(f\"{com}: {df['specom'].isna().sum()}\\n\")"
   ]
  },
  {
   "cell_type": "markdown",
   "id": "e78a384e",
   "metadata": {},
   "source": [
    "In 90% cases has no labelling, but there are 2 speakers marked as \"no_native_speaker\" and 2 others with a \"strange_velar_plosive\" remark, we might look at the model's predictions for these speakers more carefully in order to probably find something worth attention"
   ]
  },
  {
   "cell_type": "markdown",
   "id": "61fc2d36",
   "metadata": {},
   "source": [
    "## 📍 irreg: 9 types of labeled irregularities"
   ]
  },
  {
   "cell_type": "code",
   "execution_count": 8,
   "id": "faf275e9",
   "metadata": {},
   "outputs": [
    {
     "data": {
      "text/plain": [
       "i1\n",
       "9999    5404\n",
       "0       5260\n",
       "1       1823\n",
       "2        815\n",
       "3        474\n",
       "4        337\n",
       "5        273\n",
       "6        165\n",
       "7        150\n",
       "8        123\n",
       "9         81\n",
       "10        69\n",
       "11        52\n",
       "12        40\n",
       "13        32\n",
       "14        26\n",
       "16        13\n",
       "15        12\n",
       "18        10\n",
       "17         7\n",
       "20         4\n",
       "23         3\n",
       "19         2\n",
       "29         1\n",
       "27         1\n",
       "24         1\n",
       "22         1\n",
       "21         1\n",
       "Name: count, dtype: int64"
      ]
     },
     "execution_count": 8,
     "metadata": {},
     "output_type": "execute_result"
    }
   ],
   "source": [
    "df[[f'i{j}' for j in range (1,10)]] = df['irreg'].str.split('|', expand=True)\n",
    "#i1 - sum of 'irregularities' in this recording (see section \n",
    "# 'annotation' for a detailed definition of this count) -> \n",
    "# when i1 >0 -> certain irregularities occur in speech\n",
    "df['i1'].value_counts()"
   ]
  },
  {
   "cell_type": "markdown",
   "id": "6df58301",
   "metadata": {},
   "source": [
    "Irregularities might come in handy as they might affect model's predictions: e.g. repetitions or hesitations may influence on \"intoxicated speech\" labelling. BUT in ~70% there is no meta-info on the recordings"
   ]
  },
  {
   "cell_type": "markdown",
   "id": "dc2e8508",
   "metadata": {},
   "source": [
    "## ❌ wea: weather (sun/rain)"
   ]
  },
  {
   "cell_type": "code",
   "execution_count": 9,
   "id": "8ae1df8b",
   "metadata": {},
   "outputs": [
    {
     "data": {
      "text/plain": [
       "wea\n",
       "SUN     14130\n",
       "RAIN     1050\n",
       "Name: count, dtype: int64"
      ]
     },
     "execution_count": 9,
     "metadata": {},
     "output_type": "execute_result"
    }
   ],
   "source": [
    "df['wea'].value_counts()"
   ]
  },
  {
   "cell_type": "markdown",
   "id": "b636a924",
   "metadata": {},
   "source": [
    "mostly sunny -> makes no sense for us rn\n",
    "\n",
    "from lingustic perspective, we might assume that it may really make no influence on speech, whether it's intoxicated or not"
   ]
  },
  {
   "cell_type": "markdown",
   "id": "bb24b7ae",
   "metadata": {},
   "source": [
    "## ✅ age, sex, drh, aak, bak, content, type"
   ]
  },
  {
   "cell_type": "code",
   "execution_count": 10,
   "id": "f9cd6c3f",
   "metadata": {},
   "outputs": [
    {
     "name": "stdout",
     "output_type": "stream",
     "text": [
      "Sex distribution by audio\n"
     ]
    },
    {
     "data": {
      "text/html": [
       "<div>\n",
       "<style scoped>\n",
       "    .dataframe tbody tr th:only-of-type {\n",
       "        vertical-align: middle;\n",
       "    }\n",
       "\n",
       "    .dataframe tbody tr th {\n",
       "        vertical-align: top;\n",
       "    }\n",
       "\n",
       "    .dataframe thead th {\n",
       "        text-align: right;\n",
       "    }\n",
       "</style>\n",
       "<table border=\"1\" class=\"dataframe\">\n",
       "  <thead>\n",
       "    <tr style=\"text-align: right;\">\n",
       "      <th></th>\n",
       "      <th>count</th>\n",
       "    </tr>\n",
       "    <tr>\n",
       "      <th>sex</th>\n",
       "      <th></th>\n",
       "    </tr>\n",
       "  </thead>\n",
       "  <tbody>\n",
       "    <tr>\n",
       "      <th>M</th>\n",
       "      <td>7950</td>\n",
       "    </tr>\n",
       "    <tr>\n",
       "      <th>F</th>\n",
       "      <td>7230</td>\n",
       "    </tr>\n",
       "  </tbody>\n",
       "</table>\n",
       "</div>"
      ],
      "text/plain": [
       "     count\n",
       "sex       \n",
       "M     7950\n",
       "F     7230"
      ]
     },
     "execution_count": 10,
     "metadata": {},
     "output_type": "execute_result"
    }
   ],
   "source": [
    "print(\"Sex distribution by audio\") \n",
    "pd.DataFrame(df['sex'].value_counts())"
   ]
  },
  {
   "cell_type": "markdown",
   "id": "6c10bda0",
   "metadata": {},
   "source": [
    "Data seems balanced by gender"
   ]
  },
  {
   "cell_type": "code",
   "execution_count": 11,
   "id": "1fd9b834",
   "metadata": {},
   "outputs": [
    {
     "data": {
      "text/plain": [
       "<AxesSubplot: ylabel='age'>"
      ]
     },
     "execution_count": 11,
     "metadata": {},
     "output_type": "execute_result"
    },
    {
     "data": {
      "image/png": "[encoded data removed]",
      "text/plain": [
       "<Figure size 640x480 with 1 Axes>"
      ]
     },
     "metadata": {},
     "output_type": "display_data"
    }
   ],
   "source": [
    "df.age.value_counts().plot(kind='barh')"
   ]
  },
  {
   "cell_type": "markdown",
   "id": "d931a254",
   "metadata": {},
   "source": [
    "Mostly young people aged from 26 to 29 took part in audio recording."
   ]
  },
  {
   "cell_type": "code",
   "execution_count": 12,
   "id": "b5b7825a",
   "metadata": {},
   "outputs": [],
   "source": [
    "bins = [17, 26, 35, 50, np.inf]\n",
    "names = ['<26', '26-35', '36-50', '50+']\n",
    "\n",
    "df['AgeRange'] = pd.cut(df['age'], bins, labels=names)"
   ]
  },
  {
   "cell_type": "code",
   "execution_count": 13,
   "id": "787d3ef7",
   "metadata": {},
   "outputs": [
    {
     "data": {
      "text/plain": [
       "<AxesSubplot: xlabel='AgeRange'>"
      ]
     },
     "execution_count": 13,
     "metadata": {},
     "output_type": "execute_result"
    },
    {
     "data": {
      "image/png": "[encoded data removed]",
      "text/plain": [
       "<Figure size 640x480 with 1 Axes>"
      ]
     },
     "metadata": {},
     "output_type": "display_data"
    }
   ],
   "source": [
    "pd.crosstab(df['AgeRange'],df['sex']).plot.bar()"
   ]
  },
  {
   "cell_type": "code",
   "execution_count": 18,
   "id": "ed8c7e3a",
   "metadata": {},
   "outputs": [
    {
     "data": {
      "text/plain": [
       "<AxesSubplot: xlabel='AgeRange'>"
      ]
     },
     "execution_count": 18,
     "metadata": {},
     "output_type": "execute_result"
    },
    {
     "data": {
      "image/png": "[encoded data removed]",
      "text/plain": [
       "<Figure size 640x480 with 1 Axes>"
      ]
     },
     "metadata": {},
     "output_type": "display_data"
    }
   ],
   "source": [
    "pd.crosstab(df['AgeRange'],df['alc2']).plot.bar()"
   ]
  },
  {
   "cell_type": "code",
   "execution_count": 12,
   "id": "e9945436",
   "metadata": {},
   "outputs": [
    {
     "data": {
      "text/html": [
       "<div>\n",
       "<style scoped>\n",
       "    .dataframe tbody tr th:only-of-type {\n",
       "        vertical-align: middle;\n",
       "    }\n",
       "\n",
       "    .dataframe tbody tr th {\n",
       "        vertical-align: top;\n",
       "    }\n",
       "\n",
       "    .dataframe thead th {\n",
       "        text-align: right;\n",
       "    }\n",
       "</style>\n",
       "<table border=\"1\" class=\"dataframe\">\n",
       "  <thead>\n",
       "    <tr style=\"text-align: right;\">\n",
       "      <th></th>\n",
       "      <th>age</th>\n",
       "    </tr>\n",
       "    <tr>\n",
       "      <th>sex</th>\n",
       "      <th></th>\n",
       "    </tr>\n",
       "  </thead>\n",
       "  <tbody>\n",
       "    <tr>\n",
       "      <th>F</th>\n",
       "      <td>29.091286</td>\n",
       "    </tr>\n",
       "    <tr>\n",
       "      <th>M</th>\n",
       "      <td>32.652830</td>\n",
       "    </tr>\n",
       "  </tbody>\n",
       "</table>\n",
       "</div>"
      ],
      "text/plain": [
       "           age\n",
       "sex           \n",
       "F    29.091286\n",
       "M    32.652830"
      ]
     },
     "execution_count": 12,
     "metadata": {},
     "output_type": "execute_result"
    }
   ],
   "source": [
    "df[[\"sex\", \"age\"]].groupby(\"sex\").mean()"
   ]
  },
  {
   "cell_type": "markdown",
   "id": "2e8211f4",
   "metadata": {},
   "source": [
    "Data seems to be quite balanced in distribution by gender and sex. Let's take a look at the possible correlations between sex, age and soberity."
   ]
  },
  {
   "cell_type": "code",
   "execution_count": 17,
   "id": "c4fe161e",
   "metadata": {},
   "outputs": [
    {
     "data": {
      "text/plain": [
       "<AxesSubplot: xlabel='sex'>"
      ]
     },
     "execution_count": 17,
     "metadata": {},
     "output_type": "execute_result"
    },
    {
     "data": {
      "image/png": "[encoded data removed]",
      "text/plain": [
       "<Figure size 640x480 with 1 Axes>"
      ]
     },
     "metadata": {},
     "output_type": "display_data"
    }
   ],
   "source": [
    "d = {'cna': 'a', 'a': 'a', 'na':'na'}\n",
    "df['alc2'] = df['alc'].map(d) # map 'cna' and 'a' labels into one 'a' (it's the same)\n",
    "pd.crosstab(df['sex'],df['alc2']).plot.bar()"
   ]
  },
  {
   "cell_type": "code",
   "execution_count": 14,
   "id": "04f1be2d",
   "metadata": {},
   "outputs": [
    {
     "name": "stdout",
     "output_type": "stream",
     "text": [
      " male speech under intoxication 2850\n",
      " male speech under sober conditions 5100\n",
      " female speech under intoxication 2610\n",
      " female speech under sober conditions 4620\n"
     ]
    }
   ],
   "source": [
    "print(f\" male speech under intoxication {df[(df['sex']=='M') & (df['alc2']=='a')].shape[0]}\\n\",\n",
    "      f\"male speech under sober conditions {df[(df['sex']=='M') & (df['alc2']=='na')].shape[0]}\\n\",\n",
    "      f\"female speech under intoxication {df[(df['sex']=='F') & (df['alc2']=='a')].shape[0]}\\n\",\n",
    "      f\"female speech under sober conditions {df[(df['sex']=='F') & (df['alc2']=='na')].shape[0]}\")"
   ]
  },
  {
   "cell_type": "markdown",
   "id": "d42be91c",
   "metadata": {},
   "source": [
    "Possible further problems: model might constantly (worst case) or mostly predict soberity."
   ]
  },
  {
   "cell_type": "code",
   "execution_count": 15,
   "id": "66dadaf6",
   "metadata": {},
   "outputs": [
    {
     "data": {
      "text/plain": [
       "T    2530\n",
       "A    2530\n",
       "N    2530\n",
       "C    2530\n",
       "R    2186\n",
       "P    1518\n",
       "Q    1012\n",
       "S     344\n",
       "Name: content, dtype: int64"
      ]
     },
     "execution_count": 15,
     "metadata": {},
     "output_type": "execute_result"
    }
   ],
   "source": [
    "df['content'].value_counts()"
   ]
  },
  {
   "cell_type": "code",
   "execution_count": 16,
   "id": "f7e3f390",
   "metadata": {},
   "outputs": [
    {
     "data": {
      "text/plain": [
       "<matplotlib.axes._subplots.AxesSubplot at 0x7f9c6426c990>"
      ]
     },
     "execution_count": 16,
     "metadata": {},
     "output_type": "execute_result"
    },
    {
     "data": {
      "image/png": "[encoded data removed]",
      "text/plain": [
       "<Figure size 432x288 with 1 Axes>"
      ]
     },
     "metadata": {
      "needs_background": "light"
     },
     "output_type": "display_data"
    }
   ],
   "source": [
    "pd.crosstab(df['sex'],df['content']).plot.bar()"
   ]
  },
  {
   "cell_type": "code",
   "execution_count": 20,
   "id": "322d28ed",
   "metadata": {},
   "outputs": [
    {
     "data": {
      "text/plain": [
       "<AxesSubplot: xlabel='alc2'>"
      ]
     },
     "execution_count": 20,
     "metadata": {},
     "output_type": "execute_result"
    },
    {
     "data": {
      "image/png": "[encoded data removed]",
      "text/plain": [
       "<Figure size 640x480 with 1 Axes>"
      ]
     },
     "metadata": {},
     "output_type": "display_data"
    }
   ],
   "source": [
    "pd.crosstab(df['alc2'],df['content']).plot.bar()"
   ]
  },
  {
   "cell_type": "code",
   "execution_count": 23,
   "id": "e61c8b80",
   "metadata": {},
   "outputs": [
    {
     "data": {
      "text/plain": [
       "<AxesSubplot: xlabel='alc2'>"
      ]
     },
     "execution_count": 23,
     "metadata": {},
     "output_type": "execute_result"
    },
    {
     "data": {
      "image/png": "[encoded data removed]",
      "text/plain": [
       "<Figure size 640x480 with 1 Axes>"
      ]
     },
     "metadata": {},
     "output_type": "display_data"
    }
   ],
   "source": [
    "pd.crosstab(df['alc2'],df['ges']).plot.bar()"
   ]
  },
  {
   "cell_type": "code",
   "execution_count": 17,
   "id": "cbebf9c4",
   "metadata": {},
   "outputs": [
    {
     "name": "stdout",
     "output_type": "stream",
     "text": [
      "mean aak in intoxicated speecj: 0.0008868518518518375\n",
      "mean bak in intoxicated speecj: 0.000889814814814818\n"
     ]
    }
   ],
   "source": [
    "print(f\"mean aak in intoxicated speecj: {df[df['alc'] == 'a']['aak'].mean()}\")\n",
    "print(f\"mean bak in intoxicated speecj: {df[df['alc'] == 'a']['bak'].mean()}\")"
   ]
  },
  {
   "cell_type": "code",
   "execution_count": 18,
   "id": "814914a7",
   "metadata": {},
   "outputs": [
    {
     "data": {
      "text/plain": [
       "sex  content\n",
       "F    A          0.000276\n",
       "     C          0.000276\n",
       "     N          0.000276\n",
       "     P          0.000276\n",
       "     Q          0.000276\n",
       "     R          0.000256\n",
       "     S          0.000405\n",
       "     T          0.000276\n",
       "M    A          0.000291\n",
       "     C          0.000291\n",
       "     N          0.000291\n",
       "     P          0.000291\n",
       "     Q          0.000291\n",
       "     R          0.000270\n",
       "     S          0.000429\n",
       "     T          0.000291\n",
       "Name: aak, dtype: float64"
      ]
     },
     "execution_count": 18,
     "metadata": {},
     "output_type": "execute_result"
    }
   ],
   "source": [
    "df.groupby([\"sex\", \"content\"])[\"aak\"].mean()"
   ]
  },
  {
   "cell_type": "code",
   "execution_count": 19,
   "id": "daf15310",
   "metadata": {},
   "outputs": [
    {
     "data": {
      "text/plain": [
       "sex  content\n",
       "M    A          1325\n",
       "     C          1325\n",
       "     N          1325\n",
       "     T          1325\n",
       "F    A          1205\n",
       "     C          1205\n",
       "     N          1205\n",
       "     T          1205\n",
       "M    R          1145\n",
       "F    R          1041\n",
       "M    P           795\n",
       "F    P           723\n",
       "M    Q           530\n",
       "F    Q           482\n",
       "M    S           180\n",
       "F    S           164\n",
       "dtype: int64"
      ]
     },
     "execution_count": 19,
     "metadata": {},
     "output_type": "execute_result"
    }
   ],
   "source": [
    "df[[\"sex\", \"content\"]].value_counts()"
   ]
  },
  {
   "cell_type": "code",
   "execution_count": 20,
   "id": "d790cd2d",
   "metadata": {},
   "outputs": [
    {
     "data": {
      "text/html": [
       "<div>\n",
       "<style scoped>\n",
       "    .dataframe tbody tr th:only-of-type {\n",
       "        vertical-align: middle;\n",
       "    }\n",
       "\n",
       "    .dataframe tbody tr th {\n",
       "        vertical-align: top;\n",
       "    }\n",
       "\n",
       "    .dataframe thead th {\n",
       "        text-align: right;\n",
       "    }\n",
       "</style>\n",
       "<table border=\"1\" class=\"dataframe\">\n",
       "  <thead>\n",
       "    <tr style=\"text-align: right;\">\n",
       "      <th></th>\n",
       "      <th></th>\n",
       "      <th>0</th>\n",
       "    </tr>\n",
       "    <tr>\n",
       "      <th>sex</th>\n",
       "      <th>type</th>\n",
       "      <th></th>\n",
       "    </tr>\n",
       "  </thead>\n",
       "  <tbody>\n",
       "    <tr>\n",
       "      <th>M</th>\n",
       "      <th>R</th>\n",
       "      <td>3615</td>\n",
       "    </tr>\n",
       "    <tr>\n",
       "      <th>F</th>\n",
       "      <th>R</th>\n",
       "      <td>3287</td>\n",
       "    </tr>\n",
       "    <tr>\n",
       "      <th>M</th>\n",
       "      <th>L</th>\n",
       "      <td>1685</td>\n",
       "    </tr>\n",
       "    <tr>\n",
       "      <th>F</th>\n",
       "      <th>L</th>\n",
       "      <td>1533</td>\n",
       "    </tr>\n",
       "    <tr>\n",
       "      <th>M</th>\n",
       "      <th>E</th>\n",
       "      <td>1325</td>\n",
       "    </tr>\n",
       "    <tr>\n",
       "      <th>F</th>\n",
       "      <th>E</th>\n",
       "      <td>1205</td>\n",
       "    </tr>\n",
       "    <tr>\n",
       "      <th>M</th>\n",
       "      <th>M</th>\n",
       "      <td>710</td>\n",
       "    </tr>\n",
       "    <tr>\n",
       "      <th>F</th>\n",
       "      <th>M</th>\n",
       "      <td>646</td>\n",
       "    </tr>\n",
       "    <tr>\n",
       "      <th>M</th>\n",
       "      <th>D</th>\n",
       "      <td>615</td>\n",
       "    </tr>\n",
       "    <tr>\n",
       "      <th>F</th>\n",
       "      <th>D</th>\n",
       "      <td>559</td>\n",
       "    </tr>\n",
       "  </tbody>\n",
       "</table>\n",
       "</div>"
      ],
      "text/plain": [
       "             0\n",
       "sex type      \n",
       "M   R     3615\n",
       "F   R     3287\n",
       "M   L     1685\n",
       "F   L     1533\n",
       "M   E     1325\n",
       "F   E     1205\n",
       "M   M      710\n",
       "F   M      646\n",
       "M   D      615\n",
       "F   D      559"
      ]
     },
     "execution_count": 20,
     "metadata": {},
     "output_type": "execute_result"
    }
   ],
   "source": [
    "pd.DataFrame(df[[\"sex\", \"type\"]].value_counts())"
   ]
  },
  {
   "cell_type": "code",
   "execution_count": 21,
   "id": "7c6f438f",
   "metadata": {},
   "outputs": [
    {
     "data": {
      "text/plain": [
       "<matplotlib.axes._subplots.AxesSubplot at 0x7f9c63faca10>"
      ]
     },
     "execution_count": 21,
     "metadata": {},
     "output_type": "execute_result"
    },
    {
     "data": {
      "image/png": "[encoded data removed]",
      "text/plain": [
       "<Figure size 432x288 with 1 Axes>"
      ]
     },
     "metadata": {
      "needs_background": "light"
     },
     "output_type": "display_data"
    }
   ],
   "source": [
    "pd.crosstab(df['sex'],df['type']).plot.bar()"
   ]
  },
  {
   "cell_type": "code",
   "execution_count": 22,
   "id": "473c8cba",
   "metadata": {},
   "outputs": [
    {
     "data": {
      "text/plain": [
       "162"
      ]
     },
     "execution_count": 22,
     "metadata": {},
     "output_type": "execute_result"
    }
   ],
   "source": [
    "len(df['spn'].unique())"
   ]
  },
  {
   "cell_type": "code",
   "execution_count": 23,
   "id": "142dda67",
   "metadata": {},
   "outputs": [
    {
     "data": {
      "text/plain": [
       "array(['na', 'cna', 'a'], dtype=object)"
      ]
     },
     "execution_count": 23,
     "metadata": {},
     "output_type": "execute_result"
    }
   ],
   "source": [
    "df['alc'].unique()"
   ]
  },
  {
   "cell_type": "code",
   "execution_count": 24,
   "id": "25e3b9f1",
   "metadata": {},
   "outputs": [
    {
     "data": {
      "text/plain": [
       "(15180, 32)"
      ]
     },
     "execution_count": 24,
     "metadata": {},
     "output_type": "execute_result"
    }
   ],
   "source": [
    "df.shape"
   ]
  },
  {
   "cell_type": "code",
   "execution_count": 25,
   "id": "52719f55",
   "metadata": {},
   "outputs": [
    {
     "data": {
      "text/plain": [
       "'session, utterance, utt, spn, o_utt, item, o_item, alc, sex, age, acc, drh, aak, bak, ges, ces, wea, irreg, anncom, specom, type, content, i1, i2, i3, i4, i5, i6, i7, i8, i9, alc2'"
      ]
     },
     "execution_count": 25,
     "metadata": {},
     "output_type": "execute_result"
    }
   ],
   "source": [
    "', '.join(list(df.columns))"
   ]
  },
  {
   "cell_type": "code",
   "execution_count": 26,
   "id": "a5ce02c3",
   "metadata": {},
   "outputs": [
    {
     "data": {
      "text/html": [
       "<div>\n",
       "<style scoped>\n",
       "    .dataframe tbody tr th:only-of-type {\n",
       "        vertical-align: middle;\n",
       "    }\n",
       "\n",
       "    .dataframe tbody tr th {\n",
       "        vertical-align: top;\n",
       "    }\n",
       "\n",
       "    .dataframe thead th {\n",
       "        text-align: right;\n",
       "    }\n",
       "</style>\n",
       "<table border=\"1\" class=\"dataframe\">\n",
       "  <thead>\n",
       "    <tr style=\"text-align: right;\">\n",
       "      <th></th>\n",
       "      <th>utt</th>\n",
       "      <th>spn</th>\n",
       "      <th>o_utt</th>\n",
       "      <th>item</th>\n",
       "      <th>o_item</th>\n",
       "      <th>age</th>\n",
       "      <th>aak</th>\n",
       "      <th>bak</th>\n",
       "    </tr>\n",
       "  </thead>\n",
       "  <tbody>\n",
       "    <tr>\n",
       "      <th>count</th>\n",
       "      <td>1.518000e+04</td>\n",
       "      <td>15180.000000</td>\n",
       "      <td>9.976000e+03</td>\n",
       "      <td>15180.000000</td>\n",
       "      <td>9976.000000</td>\n",
       "      <td>15180.000000</td>\n",
       "      <td>15180.000000</td>\n",
       "      <td>15180.000000</td>\n",
       "    </tr>\n",
       "    <tr>\n",
       "      <th>mean</th>\n",
       "      <td>2.933084e+09</td>\n",
       "      <td>293.029644</td>\n",
       "      <td>2.939549e+09</td>\n",
       "      <td>25.104743</td>\n",
       "      <td>24.197474</td>\n",
       "      <td>30.956522</td>\n",
       "      <td>0.000284</td>\n",
       "      <td>0.000285</td>\n",
       "    </tr>\n",
       "    <tr>\n",
       "      <th>std</th>\n",
       "      <td>2.484940e+09</td>\n",
       "      <td>248.395281</td>\n",
       "      <td>2.485855e+09</td>\n",
       "      <td>16.456783</td>\n",
       "      <td>15.308179</td>\n",
       "      <td>9.547063</td>\n",
       "      <td>0.000449</td>\n",
       "      <td>0.000447</td>\n",
       "    </tr>\n",
       "    <tr>\n",
       "      <th>min</th>\n",
       "      <td>6.100600e+07</td>\n",
       "      <td>6.000000</td>\n",
       "      <td>6.100600e+07</td>\n",
       "      <td>1.000000</td>\n",
       "      <td>1.000000</td>\n",
       "      <td>21.000000</td>\n",
       "      <td>0.000000</td>\n",
       "      <td>0.000000</td>\n",
       "    </tr>\n",
       "    <tr>\n",
       "      <th>25%</th>\n",
       "      <td>5.410550e+08</td>\n",
       "      <td>54.000000</td>\n",
       "      <td>5.420460e+08</td>\n",
       "      <td>12.000000</td>\n",
       "      <td>12.000000</td>\n",
       "      <td>26.000000</td>\n",
       "      <td>0.000000</td>\n",
       "      <td>0.000000</td>\n",
       "    </tr>\n",
       "    <tr>\n",
       "      <th>50%</th>\n",
       "      <td>1.006595e+09</td>\n",
       "      <td>100.500000</td>\n",
       "      <td>1.006595e+09</td>\n",
       "      <td>23.000000</td>\n",
       "      <td>22.000000</td>\n",
       "      <td>27.000000</td>\n",
       "      <td>0.000000</td>\n",
       "      <td>0.000000</td>\n",
       "    </tr>\n",
       "    <tr>\n",
       "      <th>75%</th>\n",
       "      <td>5.483044e+09</td>\n",
       "      <td>548.000000</td>\n",
       "      <td>5.486288e+09</td>\n",
       "      <td>37.000000</td>\n",
       "      <td>32.000000</td>\n",
       "      <td>30.000000</td>\n",
       "      <td>0.000630</td>\n",
       "      <td>0.000630</td>\n",
       "    </tr>\n",
       "    <tr>\n",
       "      <th>max</th>\n",
       "      <td>5.964080e+09</td>\n",
       "      <td>596.000000</td>\n",
       "      <td>5.964080e+09</td>\n",
       "      <td>60.000000</td>\n",
       "      <td>60.000000</td>\n",
       "      <td>64.000000</td>\n",
       "      <td>0.001820</td>\n",
       "      <td>0.001750</td>\n",
       "    </tr>\n",
       "  </tbody>\n",
       "</table>\n",
       "</div>"
      ],
      "text/plain": [
       "                utt           spn         o_utt          item       o_item  \\\n",
       "count  1.518000e+04  15180.000000  9.976000e+03  15180.000000  9976.000000   \n",
       "mean   2.933084e+09    293.029644  2.939549e+09     25.104743    24.197474   \n",
       "std    2.484940e+09    248.395281  2.485855e+09     16.456783    15.308179   \n",
       "min    6.100600e+07      6.000000  6.100600e+07      1.000000     1.000000   \n",
       "25%    5.410550e+08     54.000000  5.420460e+08     12.000000    12.000000   \n",
       "50%    1.006595e+09    100.500000  1.006595e+09     23.000000    22.000000   \n",
       "75%    5.483044e+09    548.000000  5.486288e+09     37.000000    32.000000   \n",
       "max    5.964080e+09    596.000000  5.964080e+09     60.000000    60.000000   \n",
       "\n",
       "                age           aak           bak  \n",
       "count  15180.000000  15180.000000  15180.000000  \n",
       "mean      30.956522      0.000284      0.000285  \n",
       "std        9.547063      0.000449      0.000447  \n",
       "min       21.000000      0.000000      0.000000  \n",
       "25%       26.000000      0.000000      0.000000  \n",
       "50%       27.000000      0.000000      0.000000  \n",
       "75%       30.000000      0.000630      0.000630  \n",
       "max       64.000000      0.001820      0.001750  "
      ]
     },
     "execution_count": 26,
     "metadata": {},
     "output_type": "execute_result"
    }
   ],
   "source": [
    "df.describe()"
   ]
  },
  {
   "cell_type": "code",
   "execution_count": 27,
   "id": "91e01886",
   "metadata": {},
   "outputs": [
    {
     "data": {
      "text/plain": [
       "15180"
      ]
     },
     "execution_count": 27,
     "metadata": {},
     "output_type": "execute_result"
    }
   ],
   "source": [
    "len(df.groupby('utt'))"
   ]
  },
  {
   "cell_type": "code",
   "execution_count": 28,
   "id": "e38b9864",
   "metadata": {},
   "outputs": [
    {
     "data": {
      "text/plain": [
       "344"
      ]
     },
     "execution_count": 28,
     "metadata": {},
     "output_type": "execute_result"
    }
   ],
   "source": [
    "len(df.groupby('session'))"
   ]
  },
  {
   "cell_type": "code",
   "execution_count": null,
   "id": "9806ac70",
   "metadata": {},
   "outputs": [],
   "source": []
  }
 ],
 "metadata": {
  "kernelspec": {
   "display_name": "Python 3 (ipykernel)",
   "language": "python",
   "name": "python3"
  },
  "language_info": {
   "codemirror_mode": {
    "name": "ipython",
    "version": 3
   },
   "file_extension": ".py",
   "mimetype": "text/x-python",
   "name": "python",
   "nbconvert_exporter": "python",
   "pygments_lexer": "ipython3",
   "version": "3.9.16"
  }
 },
 "nbformat": 4,
 "nbformat_minor": 5
}
